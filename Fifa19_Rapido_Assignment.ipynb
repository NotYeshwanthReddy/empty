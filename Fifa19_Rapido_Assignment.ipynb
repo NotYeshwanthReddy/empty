{
  "nbformat": 4,
  "nbformat_minor": 0,
  "metadata": {
    "kernelspec": {
      "display_name": "Python 3",
      "language": "python",
      "name": "python3"
    },
    "language_info": {
      "codemirror_mode": {
        "name": "ipython",
        "version": 3
      },
      "file_extension": ".py",
      "mimetype": "text/x-python",
      "name": "python",
      "nbconvert_exporter": "python",
      "pygments_lexer": "ipython3",
      "version": "3.6.9"
    },
    "colab": {
      "name": "Fifa19 Rapido Assignment",
      "provenance": [],
      "toc_visible": true,
      "include_colab_link": true
    }
  },
  "cells": [
    {
      "cell_type": "markdown",
      "metadata": {
        "id": "view-in-github",
        "colab_type": "text"
      },
      "source": [
        "<a href=\"https://colab.research.google.com/github/NotYeshwanthReddy/empty/blob/master/Fifa19_Rapido_Assignment.ipynb\" target=\"_parent\"><img src=\"https://colab.research.google.com/assets/colab-badge.svg\" alt=\"Open In Colab\"/></a>"
      ]
    },
    {
      "cell_type": "markdown",
      "metadata": {
        "id": "27hc_ENZEgt0",
        "colab_type": "text"
      },
      "source": [
        "Imports"
      ]
    },
    {
      "cell_type": "markdown",
      "metadata": {
        "id": "OPY81uEPxxCS",
        "colab_type": "text"
      },
      "source": [
        "# Player replacement \n"
      ]
    },
    {
      "cell_type": "markdown",
      "metadata": {
        "id": "nsOetwMZIKjq",
        "colab_type": "text"
      },
      "source": [
        "# Fifa 19"
      ]
    },
    {
      "cell_type": "code",
      "metadata": {
        "id": "FX8TRxZMA9j6",
        "colab_type": "code",
        "outputId": "4a830ede-bb0e-4b25-c140-6979ed73c48d",
        "colab": {
          "base_uri": "https://localhost:8080/",
          "height": 170
        }
      },
      "source": [
        "!pip install factor_analyzer"
      ],
      "execution_count": 1,
      "outputs": [
        {
          "output_type": "stream",
          "text": [
            "Requirement already satisfied: factor_analyzer in /usr/local/lib/python3.6/dist-packages (0.3.2)\n",
            "Requirement already satisfied: scipy in /usr/local/lib/python3.6/dist-packages (from factor_analyzer) (1.4.1)\n",
            "Requirement already satisfied: numpy in /usr/local/lib/python3.6/dist-packages (from factor_analyzer) (1.17.5)\n",
            "Requirement already satisfied: scikit-learn in /usr/local/lib/python3.6/dist-packages (from factor_analyzer) (0.22.1)\n",
            "Requirement already satisfied: pandas in /usr/local/lib/python3.6/dist-packages (from factor_analyzer) (0.25.3)\n",
            "Requirement already satisfied: joblib>=0.11 in /usr/local/lib/python3.6/dist-packages (from scikit-learn->factor_analyzer) (0.14.1)\n",
            "Requirement already satisfied: pytz>=2017.2 in /usr/local/lib/python3.6/dist-packages (from pandas->factor_analyzer) (2018.9)\n",
            "Requirement already satisfied: python-dateutil>=2.6.1 in /usr/local/lib/python3.6/dist-packages (from pandas->factor_analyzer) (2.6.1)\n",
            "Requirement already satisfied: six>=1.5 in /usr/local/lib/python3.6/dist-packages (from python-dateutil>=2.6.1->pandas->factor_analyzer) (1.12.0)\n"
          ],
          "name": "stdout"
        }
      ]
    },
    {
      "cell_type": "markdown",
      "metadata": {
        "id": "LqUd_npyxzdb",
        "colab_type": "text"
      },
      "source": [
        "Imports"
      ]
    },
    {
      "cell_type": "code",
      "metadata": {
        "id": "biMpBUKu44FQ",
        "colab_type": "code",
        "colab": {}
      },
      "source": [
        "import pandas as pd   # reading csv file\n",
        "import numpy as np    # manipulating data\n",
        "from sklearn.cluster import KMeans    # Kmeans model\n",
        "import matplotlib.pyplot as plt       # plotting graphs\n",
        "from google.colab import drive        # import data from drive\n",
        "\n",
        "from factor_analyzer import FactorAnalyzer  # decrease data dimensionality"
      ],
      "execution_count": 0,
      "outputs": []
    },
    {
      "cell_type": "markdown",
      "metadata": {
        "id": "9rJ2GzZ1x1QF",
        "colab_type": "text"
      },
      "source": [
        "Mounting the Dataset"
      ]
    },
    {
      "cell_type": "code",
      "metadata": {
        "id": "cL1Vv8Lj44Fl",
        "colab_type": "code",
        "outputId": "3b3c0c77-d03a-40b6-8fef-5c7f8d830e28",
        "colab": {
          "base_uri": "https://localhost:8080/",
          "height": 34
        }
      },
      "source": [
        "drive.mount('/content/gdrive')    # mounting drive storage"
      ],
      "execution_count": 3,
      "outputs": [
        {
          "output_type": "stream",
          "text": [
            "Drive already mounted at /content/gdrive; to attempt to forcibly remount, call drive.mount(\"/content/gdrive\", force_remount=True).\n"
          ],
          "name": "stdout"
        }
      ]
    },
    {
      "cell_type": "markdown",
      "metadata": {
        "id": "1R6NI4H0yAmw",
        "colab_type": "text"
      },
      "source": [
        "Reading the Dataset"
      ]
    },
    {
      "cell_type": "code",
      "metadata": {
        "id": "mVbyAkexHk4g",
        "colab_type": "code",
        "colab": {
          "base_uri": "https://localhost:8080/",
          "height": 153
        },
        "outputId": "2fb19e62-123f-4757-db60-9a4e79f6eed1"
      },
      "source": [
        "data = pd.read_csv('/content/gdrive/My Drive/Projects/Fifa19/data.csv', delimiter=',', header=0, index_col=0)\n",
        "# data = pd.read_csv('data.csv', delimiter=',', header=0, index_col=0)\n",
        "print(data.head())"
      ],
      "execution_count": 4,
      "outputs": [
        {
          "output_type": "stream",
          "text": [
            "       ID               Name  Age  ... GKPositioning GKReflexes Release Clause\n",
            "0  158023           L. Messi   31  ...          14.0        8.0        €226.5M\n",
            "1   20801  Cristiano Ronaldo   33  ...          14.0       11.0        €127.1M\n",
            "2  190871          Neymar Jr   26  ...          15.0       11.0        €228.1M\n",
            "3  193080             De Gea   27  ...          88.0       94.0        €138.6M\n",
            "4  192985       K. De Bruyne   27  ...          10.0       13.0        €196.4M\n",
            "\n",
            "[5 rows x 88 columns]\n"
          ],
          "name": "stdout"
        }
      ]
    },
    {
      "cell_type": "code",
      "metadata": {
        "id": "riGNl3jg7eb4",
        "colab_type": "code",
        "colab": {}
      },
      "source": [
        "# Taking player names in separate array for future use.\n",
        "names = list(data[['Name']].values)\n",
        "# Taking only requirefd features (Dribbling, GoalKeeping, Shooting...)\n",
        "data = data.iloc[:, 55:87]\n",
        "print(data.shape)\n",
        "# Removing Null Values\n",
        "data = data.dropna(how='any',axis=0) \n",
        "print(data.shape)\n",
        "# Print Head\n",
        "print(data.head())"
      ],
      "execution_count": 0,
      "outputs": []
    },
    {
      "cell_type": "code",
      "metadata": {
        "id": "Tv5U99exArUl",
        "colab_type": "code",
        "colab": {}
      },
      "source": [
        "# printing the selected column names.\n",
        "col = list(data.columns)\n",
        "for i in range(len(col)):\n",
        "  print(i, col[i])"
      ],
      "execution_count": 0,
      "outputs": []
    },
    {
      "cell_type": "code",
      "metadata": {
        "id": "h36G7YXO9epe",
        "colab_type": "code",
        "colab": {}
      },
      "source": [
        "# Corellating the data for analysis\n",
        "corr = data.corr()"
      ],
      "execution_count": 0,
      "outputs": []
    },
    {
      "cell_type": "code",
      "metadata": {
        "id": "E7-wafJ19jNS",
        "colab_type": "code",
        "colab": {}
      },
      "source": [
        "# Plotting the Heatmap\n",
        "fig = plt.figure()\n",
        "ax = fig.add_subplot(111)\n",
        "cax = ax.matshow(corr,cmap='coolwarm', vmin=-1, vmax=1)\n",
        "fig.colorbar(cax)\n",
        "ticks = np.arange(0,len(data.columns),1)\n",
        "ax.set_xticks(ticks)\n",
        "plt.xticks(rotation=90)\n",
        "ax.set_yticks(ticks)\n",
        "ax.set_xticklabels(data.columns)\n",
        "ax.set_yticklabels(data.columns)\n",
        "# Increasing the size of figure\n",
        "fig.set_size_inches(18.5, 10.5)\n",
        "plt.show()"
      ],
      "execution_count": 0,
      "outputs": []
    },
    {
      "cell_type": "markdown",
      "metadata": {
        "id": "vozrn62Uy0ip",
        "colab_type": "text"
      },
      "source": [
        "From the above figure, we can see many features are corellated to eachother in positive or negative way. The features which have high corellation factor can be merged into one feature which will help in decreasing the dimensionality of the problem.<br>\n",
        "We are using Factor analysis technique to decrease the dimensions of our data based on the eigen values."
      ]
    },
    {
      "cell_type": "markdown",
      "metadata": {
        "id": "7Sy2TEIfyuH9",
        "colab_type": "text"
      },
      "source": [
        "# Factor analysis\n",
        "The objective of factor analysis is to reduce the number of observed variables and find unobservable variables.\n",
        "Before we perform factor analysis, we need to evaluate the “factorability” of our dataset. Factorability means \"can we found the factors in the dataset?\". There are two methods to check the factorability or sampling adequacy are as follows"
      ]
    },
    {
      "cell_type": "code",
      "metadata": {
        "id": "3htKkY_yCDb3",
        "colab_type": "code",
        "outputId": "0686ecd8-5c9b-4c7c-ab82-95084f336049",
        "colab": {
          "base_uri": "https://localhost:8080/",
          "height": 34
        }
      },
      "source": [
        "# Bartlett’s Test \n",
        "from factor_analyzer.factor_analyzer import calculate_bartlett_sphericity\n",
        "chi_square_value,p_value=calculate_bartlett_sphericity(data)\n",
        "chi_square_value, p_value"
      ],
      "execution_count": 0,
      "outputs": [
        {
          "output_type": "execute_result",
          "data": {
            "text/plain": [
              "(952204.763829223, 0.0)"
            ]
          },
          "metadata": {
            "tags": []
          },
          "execution_count": 8
        }
      ]
    },
    {
      "cell_type": "markdown",
      "metadata": {
        "id": "LaxlTvMLzeXP",
        "colab_type": "text"
      },
      "source": [
        "In this Bartlett ’s test, the p-value is 0. The test was statistically significant, indicating that the observed correlation matrix is not an identity matrix."
      ]
    },
    {
      "cell_type": "code",
      "metadata": {
        "id": "wyMJru5vCHy-",
        "colab_type": "code",
        "colab": {}
      },
      "source": [
        "# Kaiser-Meyer-Olkin Test\n",
        "from factor_analyzer.factor_analyzer import calculate_kmo\n",
        "kmo_all,kmo_model=calculate_kmo(data)\n",
        "print(kmo_model)"
      ],
      "execution_count": 0,
      "outputs": []
    },
    {
      "cell_type": "markdown",
      "metadata": {
        "id": "II3_yomzzklK",
        "colab_type": "text"
      },
      "source": [
        "The overall KMO for our data is ~0.97, which is excellent. This value indicates that you can proceed with your planned factor analysis."
      ]
    },
    {
      "cell_type": "code",
      "metadata": {
        "id": "v1Mpy1AECLYf",
        "colab_type": "code",
        "colab": {}
      },
      "source": [
        "# Creating factor analysis object and performing factor analysis\n",
        "import factor_analyzer\n",
        "factors = 6\n",
        "fa = FactorAnalyzer(n_factors=factors,rotation=\"varimax\")\n",
        "fa.fit(data)\n",
        "# Check Eigenvalues\n",
        "ev, v = fa.get_eigenvalues()\n",
        "print(ev)"
      ],
      "execution_count": 0,
      "outputs": []
    },
    {
      "cell_type": "markdown",
      "metadata": {
        "id": "rlOFCi83z3vN",
        "colab_type": "text"
      },
      "source": [
        "The array above consists of the eigen values of each feature."
      ]
    },
    {
      "cell_type": "code",
      "metadata": {
        "id": "rzkMnG3MCZZd",
        "colab_type": "code",
        "colab": {}
      },
      "source": [
        "# computing corellation coefficients between all factors and all features.\n",
        "loadings = fa.loadings_\n",
        "print(pd.DataFrame.from_records(loadings))"
      ],
      "execution_count": 0,
      "outputs": []
    },
    {
      "cell_type": "markdown",
      "metadata": {
        "id": "gBGPlxLy01-r",
        "colab_type": "text"
      },
      "source": [
        "Here we can see that<br>\n",
        "Factor 0 has high factor loadings for [1, 2, 3, 4, 5, 6, 7, 11, 13, 17, 20, 21, 22, 23]<br>\n",
        "Factor 1 has high factor loadings for [0, 27, 28, 29, 30, 31].<br>\n",
        "Factor 2 has high factor loadings for [15, 18, 19, 24, 25, 26].<br>\n",
        "Factor 3 has high factor loadings for [8, 9, 10].<br>\n",
        "Factor 4 has high factor loadings for [12, 16].<br>\n",
        "Factor 5 has high factor loadings for [14].<br>\n",
        "\n"
      ]
    },
    {
      "cell_type": "markdown",
      "metadata": {
        "id": "qSo7_TTBYuFe",
        "colab_type": "text"
      },
      "source": [
        "## Merging features using average\n",
        "Each factor is having high corellation with multiple features. So, we are taking the average of all those features and converting it into one new feature."
      ]
    },
    {
      "cell_type": "code",
      "metadata": {
        "id": "FMgshiymNik2",
        "colab_type": "code",
        "colab": {}
      },
      "source": [
        "# Taking it into an array\n",
        "df = pd.DataFrame.from_records(loadings)\n",
        "# Squaring the valus to get rid of negative values\n",
        "df = np.square(df)\n",
        "# Taking the max value index of each row\n",
        "df = df.idxmax(axis=1)\n",
        "arr = [[] for _ in range(6)]\n",
        "for i in range(df.size):\n",
        "  arr[df[i]].append(i)\n",
        "print(arr)"
      ],
      "execution_count": 0,
      "outputs": []
    },
    {
      "cell_type": "markdown",
      "metadata": {
        "id": "OyjfmZub2Tr9",
        "colab_type": "text"
      },
      "source": [
        "The above array describes which features needs to be merged(averaged)."
      ]
    },
    {
      "cell_type": "code",
      "metadata": {
        "id": "j0U1x56JUIjp",
        "colab_type": "code",
        "colab": {}
      },
      "source": [
        "# Renaming the columns from ['BallControl', 'Dribbling', 'Accuracy', ...] to [0,1,2,3,...]\n",
        "data.columns = [i for i in range(data.shape[1])]\n",
        "# empty pandas dataframe\n",
        "new_data = pd.DataFrame()\n",
        "# Averaging the columns and adding them into new_data\n",
        "for i in range(len(arr)):\n",
        "  temp = data[arr[i]]\n",
        "  new_data[i] = temp.mean(axis=1)\n",
        "# new_data is the dataframe of new features (after averaging)\n",
        "print(new_data.head)"
      ],
      "execution_count": 0,
      "outputs": []
    },
    {
      "cell_type": "markdown",
      "metadata": {
        "id": "2xnwEwwin56-",
        "colab_type": "text"
      },
      "source": [
        "# Kmeans"
      ]
    },
    {
      "cell_type": "code",
      "metadata": {
        "id": "0j9Sb5S9egIb",
        "colab_type": "code",
        "colab": {}
      },
      "source": [
        "# Converting dataframe into required format\n",
        "input = list(new_data.values)\n",
        "print(input)"
      ],
      "execution_count": 0,
      "outputs": []
    },
    {
      "cell_type": "code",
      "metadata": {
        "id": "6GaTYbEs44Gl",
        "colab_type": "code",
        "colab": {}
      },
      "source": [
        "# Calculating the cost for different no. of clusters\n",
        "cost =[] \n",
        "# calculatig for 1-50 clusters\n",
        "for i in range(1, 50): \n",
        "    KM = KMeans(n_clusters = i, max_iter = 500) \n",
        "    KM.fit(input) \n",
        "    cost.append(KM.inertia_) "
      ],
      "execution_count": 0,
      "outputs": []
    },
    {
      "cell_type": "code",
      "metadata": {
        "id": "za6QUfPm44Gu",
        "colab_type": "code",
        "colab": {}
      },
      "source": [
        "# Plotting the cost function\n",
        "plt.plot(range(1, 50), cost, color ='g', linewidth ='3') \n",
        "plt.xlabel(\"Value of K\") \n",
        "plt.ylabel(\"Sqaured Error (Cost)\") \n",
        "plt.show()"
      ],
      "execution_count": 0,
      "outputs": []
    },
    {
      "cell_type": "markdown",
      "metadata": {
        "id": "xo4IwdA74EZ6",
        "colab_type": "text"
      },
      "source": [
        "As we can see that here is no much change in the error from 15 but if we take 15 clusters the number of players for each cluster will be more. So we are using 35 clusters which is optimal."
      ]
    },
    {
      "cell_type": "code",
      "metadata": {
        "id": "xCy5i2k-44G6",
        "colab_type": "code",
        "colab": {}
      },
      "source": [
        "kmeans = KMeans(n_clusters=35, random_state=0).fit(input)"
      ],
      "execution_count": 0,
      "outputs": []
    },
    {
      "cell_type": "code",
      "metadata": {
        "id": "t7Kdijqs44HD",
        "colab_type": "code",
        "colab": {}
      },
      "source": [
        "lab = list(kmeans.labels_)"
      ],
      "execution_count": 0,
      "outputs": []
    },
    {
      "cell_type": "code",
      "metadata": {
        "id": "0D_xi0Yx44Hb",
        "colab_type": "code",
        "colab": {}
      },
      "source": [
        "data = pd.read_csv('/content/gdrive/My Drive/Projects/Fifa19/data.csv', delimiter=',', header=0, index_col=0)\n",
        "names = list(data[['Name']].values)\n",
        "data = data.iloc[:, 55:87]\n",
        "data['Name'] = names\n",
        "data = data.dropna(how='any',axis=0)"
      ],
      "execution_count": 0,
      "outputs": []
    },
    {
      "cell_type": "code",
      "metadata": {
        "id": "Ruqh-G0zjLRc",
        "colab_type": "code",
        "colab": {}
      },
      "source": [
        "# Searching replacement for the player below\n",
        "player_name = \"L. Messi\"\n",
        "\n",
        "\n",
        "\n",
        "# Selecting the row which has our player name\n",
        "player_data = data.loc[data.Name == player_name]\n",
        "# creating empty array\n",
        "player = np.array([])\n",
        "# calculating the features of the player (using averaging)\n",
        "player_data.columns = [i for i in range(player_data.shape[1])]\n",
        "for i in range(len(arr)):\n",
        "  temp = player_data[arr[i]]\n",
        "  player = np.append(player, temp.mean(axis=1))\n",
        "  \n",
        "# print(player)\n",
        "# Finding the players cluster\n",
        "output_classs = kmeans.predict([player]) \n",
        "# Printing the cluster number\n",
        "print(\"Class : \",output_classs)"
      ],
      "execution_count": 0,
      "outputs": []
    },
    {
      "cell_type": "code",
      "metadata": {
        "id": "YMBBkvyP44Hu",
        "colab_type": "code",
        "colab": {}
      },
      "source": [
        "# Output all the players in that Cluster.\n",
        "for i in range(len(lab)):\n",
        "    if lab[i]==output_classs:\n",
        "        print(names[i])"
      ],
      "execution_count": 0,
      "outputs": []
    },
    {
      "cell_type": "code",
      "metadata": {
        "id": "vCW0To9N44H3",
        "colab_type": "code",
        "colab": {}
      },
      "source": [
        "print(type(data['Volleys'].values))\n",
        "print(data['Volleys'].values)\n",
        "print(type(data))"
      ],
      "execution_count": 0,
      "outputs": []
    },
    {
      "cell_type": "markdown",
      "metadata": {
        "id": "TkwauzQzIFiq",
        "colab_type": "text"
      },
      "source": [
        "# Fifa 20 "
      ]
    },
    {
      "cell_type": "code",
      "metadata": {
        "id": "2jKg_Nlj3Ius",
        "colab_type": "code",
        "colab": {
          "base_uri": "https://localhost:8080/",
          "height": 170
        },
        "outputId": "e6abae1a-e747-461e-8d13-cb87ffd1ce29"
      },
      "source": [
        "data = pd.read_csv('/content/gdrive/My Drive/Projects/Fifa19/players_20.csv', delimiter=',', header=0, index_col=0)\n",
        "print(data.head())"
      ],
      "execution_count": 6,
      "outputs": [
        {
          "output_type": "stream",
          "text": [
            "                                                  player_url  ...    rb\n",
            "sofifa_id                                                     ...      \n",
            "158023     https://sofifa.com/player/158023/lionel-messi/...  ...  63+2\n",
            "20801      https://sofifa.com/player/20801/c-ronaldo-dos-...  ...  61+3\n",
            "190871     https://sofifa.com/player/190871/neymar-da-sil...  ...  61+3\n",
            "200389     https://sofifa.com/player/200389/jan-oblak/20/...  ...   NaN\n",
            "183277     https://sofifa.com/player/183277/eden-hazard/2...  ...  61+3\n",
            "\n",
            "[5 rows x 103 columns]\n"
          ],
          "name": "stdout"
        }
      ]
    },
    {
      "cell_type": "code",
      "metadata": {
        "id": "6a57C8LRIzPe",
        "colab_type": "code",
        "colab": {
          "base_uri": "https://localhost:8080/",
          "height": 54
        },
        "outputId": "d899c677-11c5-4398-9908-8ee2d2b19068"
      },
      "source": [
        "# for i,col in zip(range(len(data.columns)),data.columns):\n",
        "#   print (i, col)\n",
        "print([(i,col) for (i,col) in zip(range(len(data.columns)),data.columns)])\n",
        "# list(data.columns)"
      ],
      "execution_count": 40,
      "outputs": [
        {
          "output_type": "stream",
          "text": [
            "[(0, 'player_url'), (1, 'short_name'), (2, 'long_name'), (3, 'age'), (4, 'dob'), (5, 'height_cm'), (6, 'weight_kg'), (7, 'nationality'), (8, 'club'), (9, 'overall'), (10, 'potential'), (11, 'value_eur'), (12, 'wage_eur'), (13, 'player_positions'), (14, 'preferred_foot'), (15, 'international_reputation'), (16, 'weak_foot'), (17, 'skill_moves'), (18, 'work_rate'), (19, 'body_type'), (20, 'real_face'), (21, 'release_clause_eur'), (22, 'player_tags'), (23, 'team_position'), (24, 'team_jersey_number'), (25, 'loaned_from'), (26, 'joined'), (27, 'contract_valid_until'), (28, 'nation_position'), (29, 'nation_jersey_number'), (30, 'pace'), (31, 'shooting'), (32, 'passing'), (33, 'dribbling'), (34, 'defending'), (35, 'physic'), (36, 'gk_diving'), (37, 'gk_handling'), (38, 'gk_kicking'), (39, 'gk_reflexes'), (40, 'gk_speed'), (41, 'gk_positioning'), (42, 'player_traits'), (43, 'attacking_crossing'), (44, 'attacking_finishing'), (45, 'attacking_heading_accuracy'), (46, 'attacking_short_passing'), (47, 'attacking_volleys'), (48, 'skill_dribbling'), (49, 'skill_curve'), (50, 'skill_fk_accuracy'), (51, 'skill_long_passing'), (52, 'skill_ball_control'), (53, 'movement_acceleration'), (54, 'movement_sprint_speed'), (55, 'movement_agility'), (56, 'movement_reactions'), (57, 'movement_balance'), (58, 'power_shot_power'), (59, 'power_jumping'), (60, 'power_stamina'), (61, 'power_strength'), (62, 'power_long_shots'), (63, 'mentality_aggression'), (64, 'mentality_interceptions'), (65, 'mentality_positioning'), (66, 'mentality_vision'), (67, 'mentality_penalties'), (68, 'mentality_composure'), (69, 'defending_marking'), (70, 'defending_standing_tackle'), (71, 'defending_sliding_tackle'), (72, 'goalkeeping_diving'), (73, 'goalkeeping_handling'), (74, 'goalkeeping_kicking'), (75, 'goalkeeping_positioning'), (76, 'goalkeeping_reflexes'), (77, 'ls'), (78, 'st'), (79, 'rs'), (80, 'lw'), (81, 'lf'), (82, 'cf'), (83, 'rf'), (84, 'rw'), (85, 'lam'), (86, 'cam'), (87, 'ram'), (88, 'lm'), (89, 'lcm'), (90, 'cm'), (91, 'rcm'), (92, 'rm'), (93, 'lwb'), (94, 'ldm'), (95, 'cdm'), (96, 'rdm'), (97, 'rwb'), (98, 'lb'), (99, 'lcb'), (100, 'cb'), (101, 'rcb'), (102, 'rb')]\n"
          ],
          "name": "stdout"
        }
      ]
    },
    {
      "cell_type": "code",
      "metadata": {
        "id": "VNiIykI0KU-J",
        "colab_type": "code",
        "colab": {
          "base_uri": "https://localhost:8080/",
          "height": 34
        },
        "outputId": "37bcb15f-d1f5-4d68-a824-f350c2cbb404"
      },
      "source": [
        "from operator import itemgetter\n",
        "itemgetter(0,5,10,12)(data.columns)"
      ],
      "execution_count": 36,
      "outputs": [
        {
          "output_type": "execute_result",
          "data": {
            "text/plain": [
              "('player_url', 'height_cm', 'potential', 'wage_eur')"
            ]
          },
          "metadata": {
            "tags": []
          },
          "execution_count": 36
        }
      ]
    },
    {
      "cell_type": "code",
      "metadata": {
        "id": "KsPtZedEPtgi",
        "colab_type": "code",
        "colab": {}
      },
      "source": [
        ""
      ],
      "execution_count": 0,
      "outputs": []
    }
  ]
}
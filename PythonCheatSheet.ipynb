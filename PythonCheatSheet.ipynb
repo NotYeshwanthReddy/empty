{
  "nbformat": 4,
  "nbformat_minor": 0,
  "metadata": {
    "colab": {
      "name": "PythonCheatSheet.ipynb",
      "provenance": [],
      "toc_visible": true,
      "authorship_tag": "ABX9TyPedWp8cpJCMnNefdBoZrSh",
      "include_colab_link": true
    },
    "kernelspec": {
      "name": "python3",
      "display_name": "Python 3"
    }
  },
  "cells": [
    {
      "cell_type": "markdown",
      "metadata": {
        "id": "view-in-github",
        "colab_type": "text"
      },
      "source": [
        "<a href=\"https://colab.research.google.com/github/NotYeshwanthReddy/empty/blob/master/PythonCheatSheet.ipynb\" target=\"_parent\"><img src=\"https://colab.research.google.com/assets/colab-badge.svg\" alt=\"Open In Colab\"/></a>"
      ]
    },
    {
      "cell_type": "markdown",
      "metadata": {
        "id": "KKyQGH_X6uTk",
        "colab_type": "text"
      },
      "source": [
        "# Python"
      ]
    },
    {
      "cell_type": "markdown",
      "metadata": {
        "id": "u0SfFq5c6JAl",
        "colab_type": "text"
      },
      "source": [
        "### Help"
      ]
    },
    {
      "cell_type": "code",
      "metadata": {
        "id": "g4_8MGFp6zyT",
        "colab_type": "code",
        "outputId": "27bd0ddf-eaec-412d-b310-a4ec82e8854a",
        "colab": {
          "base_uri": "https://localhost:8080/",
          "height": 119
        }
      },
      "source": [
        "class Test:\n",
        "  \"\"\"Demo test class  \"\"\"\n",
        "  def __init__():\n",
        "    s = 10\n",
        "  def function(arg1:str, arg2:int,arg3:list) -> str:\n",
        "    ''' Takes in 3 args\n",
        "    returns results\n",
        "    '''\n",
        "    return arg1\n",
        "\n",
        "help( function)\n",
        "? function()\n",
        "\n",
        "# TODO: Add condition for when val is None"
      ],
      "execution_count": 0,
      "outputs": [
        {
          "output_type": "stream",
          "text": [
            "Help on function function in module __main__:\n",
            "\n",
            "function(arg1:str, arg2:int, arg3:list) -> str\n",
            "    Takes in 3 args\n",
            "    returns results\n",
            "\n"
          ],
          "name": "stdout"
        }
      ]
    },
    {
      "cell_type": "code",
      "metadata": {
        "id": "bb65Mh1a9fJH",
        "colab_type": "code",
        "outputId": "ca88038b-fd14-4208-93f9-a2164bb5153b",
        "colab": {
          "base_uri": "https://localhost:8080/",
          "height": 496
        }
      },
      "source": [
        "print(Test.__doc__)\n",
        "print(Test.__init__)\n",
        "print(help(Test))\n",
        "print(dir(Test))"
      ],
      "execution_count": 0,
      "outputs": [
        {
          "output_type": "stream",
          "text": [
            "Demo test class  \n",
            "<function Test.__init__ at 0x7f5ad59bbf28>\n",
            "Help on class Test in module __main__:\n",
            "\n",
            "class Test(builtins.object)\n",
            " |  Demo test class\n",
            " |  \n",
            " |  Methods defined here:\n",
            " |  \n",
            " |  __init__()\n",
            " |      Initialize self.  See help(type(self)) for accurate signature.\n",
            " |  \n",
            " |  function(arg1:str, arg2:int, arg3:list) -> str\n",
            " |      Takes in 3 args\n",
            " |      returns results\n",
            " |  \n",
            " |  ----------------------------------------------------------------------\n",
            " |  Data descriptors defined here:\n",
            " |  \n",
            " |  __dict__\n",
            " |      dictionary for instance variables (if defined)\n",
            " |  \n",
            " |  __weakref__\n",
            " |      list of weak references to the object (if defined)\n",
            "\n",
            "None\n",
            "['__class__', '__delattr__', '__dict__', '__dir__', '__doc__', '__eq__', '__format__', '__ge__', '__getattribute__', '__gt__', '__hash__', '__init__', '__init_subclass__', '__le__', '__lt__', '__module__', '__ne__', '__new__', '__reduce__', '__reduce_ex__', '__repr__', '__setattr__', '__sizeof__', '__str__', '__subclasshook__', '__weakref__', 'function']\n"
          ],
          "name": "stdout"
        }
      ]
    },
    {
      "cell_type": "code",
      "metadata": {
        "id": "BabrT5PGiOPZ",
        "colab_type": "code",
        "colab": {}
      },
      "source": [
        "# ? = jupyter symbol, shows help of a function\n",
        "? np.shape"
      ],
      "execution_count": 0,
      "outputs": []
    },
    {
      "cell_type": "markdown",
      "metadata": {
        "id": "nrtTVvFkiPQD",
        "colab_type": "text"
      },
      "source": [
        "# NumPy\n"
      ]
    },
    {
      "cell_type": "code",
      "metadata": {
        "id": "CUQ1TXPqWo6t",
        "colab_type": "code",
        "colab": {}
      },
      "source": [
        "# NumPy Reference Resource - Cheat sheet\n",
        "# https://s3.amazonaws.com/assets.datacamp.com/blog_assets/Numpy_Python_Cheat_Sheet.pdf\n",
        "\n",
        "import numpy as np"
      ],
      "execution_count": 0,
      "outputs": []
    },
    {
      "cell_type": "markdown",
      "metadata": {
        "id": "EzWAb0PPf-ez",
        "colab_type": "text"
      },
      "source": [
        "## Delcare array"
      ]
    },
    {
      "cell_type": "code",
      "metadata": {
        "id": "kO8mMM6uXbqL",
        "colab_type": "code",
        "colab": {}
      },
      "source": [
        "# a = np.array([(1.2,2,3),\n",
        "              # (2.3,4,5)], dtype=float)\n",
        "b = np.array([[1.2,2,3],\n",
        "              [2.3,4,5]], dtype=float)\n",
        "c = np.array([[(1.5,2,3),\n",
        "               (4,5,6)], \n",
        "              [(3,2,1), \n",
        "               (4,5,6)]], dtype = float)"
      ],
      "execution_count": 0,
      "outputs": []
    },
    {
      "cell_type": "code",
      "metadata": {
        "id": "QPKMJ282YDVJ",
        "colab_type": "code",
        "outputId": "661a8c19-327c-4e5f-98e9-eeaf17018fdc",
        "colab": {
          "base_uri": "https://localhost:8080/",
          "height": 136
        }
      },
      "source": [
        "# print(a, np.shape(a))\n",
        "print(b, np.shape(b))\n",
        "print(c, np.shape(c))"
      ],
      "execution_count": 0,
      "outputs": [
        {
          "output_type": "stream",
          "text": [
            "[[1.2 2.  3. ]\n",
            " [2.3 4.  5. ]] (2, 3)\n",
            "[[[1.5 2.  3. ]\n",
            "  [4.  5.  6. ]]\n",
            "\n",
            " [[3.  2.  1. ]\n",
            "  [4.  5.  6. ]]] (2, 2, 3)\n"
          ],
          "name": "stdout"
        }
      ]
    },
    {
      "cell_type": "markdown",
      "metadata": {
        "id": "odUwbpjNf53j",
        "colab_type": "text"
      },
      "source": [
        "## Auto create array"
      ]
    },
    {
      "cell_type": "code",
      "metadata": {
        "id": "rHgYXvdCYYHa",
        "colab_type": "code",
        "outputId": "ba904d8a-dec4-4296-a855-a327ab7ab08b",
        "colab": {
          "base_uri": "https://localhost:8080/",
          "height": 51
        }
      },
      "source": [
        "np.linspace(0,2,10)\n",
        "np.random.random((3,4)) # never give one arg. will create a Rank 1 array.\n",
        "np.full((2,3),7)\n",
        "np.zeros((3,4))\n",
        "np.ones((2,3))\n"
      ],
      "execution_count": 0,
      "outputs": [
        {
          "output_type": "execute_result",
          "data": {
            "text/plain": [
              "array([[1., 1., 1.],\n",
              "       [1., 1., 1.]])"
            ]
          },
          "metadata": {
            "tags": []
          },
          "execution_count": 37
        }
      ]
    },
    {
      "cell_type": "markdown",
      "metadata": {
        "id": "dY9YaVhUf3Aj",
        "colab_type": "text"
      },
      "source": [
        "## Array Properties"
      ]
    },
    {
      "cell_type": "code",
      "metadata": {
        "id": "w0fM_ZkNZDjQ",
        "colab_type": "code",
        "outputId": "cd5c8615-4726-4c38-8005-9ebb9678cca1",
        "colab": {
          "base_uri": "https://localhost:8080/",
          "height": 697
        }
      },
      "source": [
        "e = np.empty((7,7))\n",
        "print(e)\n",
        "print(np.shape(e))\n",
        "print(np.size(e))\n",
        "print(e.shape)\n",
        "print(e.size)\n",
        "print(e.dtype)\n",
        "# print(e.dtype.name)\n",
        "print(e.astype(int))"
      ],
      "execution_count": 0,
      "outputs": [
        {
          "output_type": "stream",
          "text": [
            "[[3.05890349e-316 2.33475203e-131 6.93477243e-310 6.93477243e-310\n",
            "  1.00417949e-131 6.93477243e-310 6.93477243e-310]\n",
            " [1.71893259e+049 6.93477243e-310 6.93477243e-310 3.90368375e-007\n",
            "  6.93477243e-310 6.93477243e-310 1.30810436e+115]\n",
            " [6.93477243e-310 6.93477243e-310 6.20125448e-256 6.93477243e-310\n",
            "  6.93477243e-310 1.47881230e+142 6.93477243e-310]\n",
            " [6.93477243e-310 1.95963641e-212 6.93477243e-310 6.93477243e-310\n",
            "  2.63815993e-011 6.93477243e-310 6.93477243e-310]\n",
            " [2.55416341e-113 6.93477243e-310 6.93477243e-310 4.02937796e+089\n",
            "  6.93477243e-310 6.93477243e-310 9.72446629e-110]\n",
            " [6.93477243e-310 6.93477243e-310 6.65225438e+267 6.93477243e-310\n",
            "  6.93477243e-310 1.40413554e-282 6.93477243e-310]\n",
            " [6.93477243e-310 7.35482915e+265 6.93477243e-310 6.93477243e-310\n",
            "  1.48146156e+066 6.93477243e-310 6.93477243e-310]]\n",
            "(7, 7)\n",
            "49\n",
            "(7, 7)\n",
            "49\n",
            "float64\n",
            "[[                   0                    0                    0\n",
            "                     0                    0                    0\n",
            "                     0]\n",
            " [-9223372036854775808                    0                    0\n",
            "                     0                    0                    0\n",
            "  -9223372036854775808]\n",
            " [                   0                    0                    0\n",
            "                     0                    0 -9223372036854775808\n",
            "                     0]\n",
            " [                   0                    0                    0\n",
            "                     0                    0                    0\n",
            "                     0]\n",
            " [                   0                    0                    0\n",
            "  -9223372036854775808                    0                    0\n",
            "                     0]\n",
            " [                   0                    0 -9223372036854775808\n",
            "                     0                    0                    0\n",
            "                     0]\n",
            " [                   0 -9223372036854775808                    0\n",
            "                     0 -9223372036854775808                    0\n",
            "                     0]]\n"
          ],
          "name": "stdout"
        }
      ]
    },
    {
      "cell_type": "markdown",
      "metadata": {
        "id": "yjudRLlffzUp",
        "colab_type": "text"
      },
      "source": [
        "## Save and Load arrays"
      ]
    },
    {
      "cell_type": "code",
      "metadata": {
        "id": "xeB6_YSXbHMs",
        "colab_type": "code",
        "colab": {}
      },
      "source": [
        "np.save(\"array\",e)    # saves to npy file\n",
        "np.savez(\"arrays\", a=b,b=c,c=e)   # saves to npz file"
      ],
      "execution_count": 0,
      "outputs": []
    },
    {
      "cell_type": "code",
      "metadata": {
        "id": "LK8rjlK2czV2",
        "colab_type": "code",
        "outputId": "b65c206e-887b-431b-8871-f12a8fb90ba0",
        "colab": {
          "base_uri": "https://localhost:8080/",
          "height": 374
        }
      },
      "source": [
        "import numpy\n",
        "data = np.load(\"arrays.npz\")     # load npy or npz files\n",
        "data['c']"
      ],
      "execution_count": 0,
      "outputs": [
        {
          "output_type": "execute_result",
          "data": {
            "text/plain": [
              "array([[3.05890349e-316, 2.33475203e-131, 6.93477243e-310,\n",
              "        6.93477243e-310, 1.00417949e-131, 6.93477243e-310,\n",
              "        6.93477243e-310],\n",
              "       [1.71893259e+049, 6.93477243e-310, 6.93477243e-310,\n",
              "        3.90368375e-007, 6.93477243e-310, 6.93477243e-310,\n",
              "        1.30810436e+115],\n",
              "       [6.93477243e-310, 6.93477243e-310, 6.20125448e-256,\n",
              "        6.93477243e-310, 6.93477243e-310, 1.47881230e+142,\n",
              "        6.93477243e-310],\n",
              "       [6.93477243e-310, 1.95963641e-212, 6.93477243e-310,\n",
              "        6.93477243e-310, 2.63815993e-011, 6.93477243e-310,\n",
              "        6.93477243e-310],\n",
              "       [2.55416341e-113, 6.93477243e-310, 6.93477243e-310,\n",
              "        4.02937796e+089, 6.93477243e-310, 6.93477243e-310,\n",
              "        9.72446629e-110],\n",
              "       [6.93477243e-310, 6.93477243e-310, 6.65225438e+267,\n",
              "        6.93477243e-310, 6.93477243e-310, 1.40413554e-282,\n",
              "        6.93477243e-310],\n",
              "       [6.93477243e-310, 7.35482915e+265, 6.93477243e-310,\n",
              "        6.93477243e-310, 1.48146156e+066, 6.93477243e-310,\n",
              "        6.93477243e-310]])"
            ]
          },
          "metadata": {
            "tags": []
          },
          "execution_count": 40
        }
      ]
    },
    {
      "cell_type": "markdown",
      "metadata": {
        "id": "CgC-uDpIgyBD",
        "colab_type": "text"
      },
      "source": [
        "## save and load text and csv files\n",
        "Won't use this much. Pandas is used for reading csv and xls files"
      ]
    },
    {
      "cell_type": "code",
      "metadata": {
        "id": "RHMThn9lfg-M",
        "colab_type": "code",
        "colab": {}
      },
      "source": [
        "# np.loadtxt(\"myfile.txt\")\n",
        "# np.genfromtxt(\"my_file.csv\", delimiter=',')\n",
        "# np.savetxt(\"myarray.txt\", a, delimiter=\" \")"
      ],
      "execution_count": 0,
      "outputs": []
    },
    {
      "cell_type": "markdown",
      "metadata": {
        "id": "Dnyu-hbVizzr",
        "colab_type": "text"
      },
      "source": [
        "## Arithmetic Operations"
      ]
    },
    {
      "cell_type": "code",
      "metadata": {
        "id": "ChS3zc-ciXJx",
        "colab_type": "code",
        "outputId": "b49b4ab0-499e-4011-f9dc-3e79769572f6",
        "colab": {
          "base_uri": "https://localhost:8080/",
          "height": 782
        }
      },
      "source": [
        "print(\"c\\n\",c,\"\\n b \\n\",b,\"\\n c-b \\n\",(c-b))\n",
        "print(np.subtract(c,b))\n",
        "print(np.add(b,c))\n",
        "print(np.divide(c,b))\n",
        "print(np.multiply(c,b)) #Multiplication\n",
        "print(np.exp(b)) #Exponentiation\n",
        "print(np.sqrt(b)) #Square root\n",
        "print(np.sin(b)) #Print sines of an array\n",
        "print(np.cos(b)) #Element-wise cosine\n",
        "print(np.log(b))  # Element-wise log"
      ],
      "execution_count": 0,
      "outputs": [
        {
          "output_type": "stream",
          "text": [
            "c\n",
            " [[[1.5 2.  3. ]\n",
            "  [4.  5.  6. ]]\n",
            "\n",
            " [[3.  2.  1. ]\n",
            "  [4.  5.  6. ]]] \n",
            " b \n",
            " [[1.2 2.  3. ]\n",
            " [2.3 4.  5. ]] \n",
            " c-b \n",
            " [[[ 0.3  0.   0. ]\n",
            "  [ 1.7  1.   1. ]]\n",
            "\n",
            " [[ 1.8  0.  -2. ]\n",
            "  [ 1.7  1.   1. ]]]\n",
            "[[[ 0.3  0.   0. ]\n",
            "  [ 1.7  1.   1. ]]\n",
            "\n",
            " [[ 1.8  0.  -2. ]\n",
            "  [ 1.7  1.   1. ]]]\n",
            "[[[ 2.7  4.   6. ]\n",
            "  [ 6.3  9.  11. ]]\n",
            "\n",
            " [[ 4.2  4.   4. ]\n",
            "  [ 6.3  9.  11. ]]]\n",
            "[[[1.25       1.         1.        ]\n",
            "  [1.73913043 1.25       1.2       ]]\n",
            "\n",
            " [[2.5        1.         0.33333333]\n",
            "  [1.73913043 1.25       1.2       ]]]\n",
            "[[[ 1.8  4.   9. ]\n",
            "  [ 9.2 20.  30. ]]\n",
            "\n",
            " [[ 3.6  4.   3. ]\n",
            "  [ 9.2 20.  30. ]]]\n",
            "[[  3.32011692   7.3890561   20.08553692]\n",
            " [  9.97418245  54.59815003 148.4131591 ]]\n",
            "[[1.09544512 1.41421356 1.73205081]\n",
            " [1.51657509 2.         2.23606798]]\n",
            "[[ 0.93203909  0.90929743  0.14112001]\n",
            " [ 0.74570521 -0.7568025  -0.95892427]]\n",
            "[[ 0.36235775 -0.41614684 -0.9899925 ]\n",
            " [-0.66627602 -0.65364362  0.28366219]]\n",
            "[[0.18232156 0.69314718 1.09861229]\n",
            " [0.83290912 1.38629436 1.60943791]]\n"
          ],
          "name": "stdout"
        }
      ]
    },
    {
      "cell_type": "markdown",
      "metadata": {
        "id": "897M7VPmoyf4",
        "colab_type": "text"
      },
      "source": [
        "## Array wise functios"
      ]
    },
    {
      "cell_type": "code",
      "metadata": {
        "id": "iKy-0gGsi73C",
        "colab_type": "code",
        "outputId": "9813cb04-ffe2-479e-b34c-c2293292cad0",
        "colab": {
          "base_uri": "https://localhost:8080/",
          "height": 136
        }
      },
      "source": [
        "print(b.sum()) #Array-wise sum\n",
        "print(b.min()) #Array-wise minimum value\n",
        "print(b.max(axis=0)) #aximum value of an array row\n",
        "print(b.cumsum(axis=1)) #Cumulative sum of the elements\n",
        "print(b.mean()) #Mean\n",
        "# print(b.median()) #Median\n",
        "# print(b.corrcoef()) #Correlation coefficient\n",
        "print(np.std(b))"
      ],
      "execution_count": 0,
      "outputs": [
        {
          "output_type": "stream",
          "text": [
            "17.5\n",
            "1.2\n",
            "[2.3 4.  5. ]\n",
            "[[ 1.2  3.2  6.2]\n",
            " [ 2.3  6.3 11.3]]\n",
            "2.9166666666666665\n",
            "1.2707172078091264\n"
          ],
          "name": "stdout"
        }
      ]
    },
    {
      "cell_type": "code",
      "metadata": {
        "id": "zEznrwAgi_Py",
        "colab_type": "code",
        "outputId": "ca54c1b0-6aa8-403d-f48a-294d0853d16e",
        "colab": {
          "base_uri": "https://localhost:8080/",
          "height": 51
        }
      },
      "source": [
        "print(b.sum(axis=1)) #Array-wise operation\n",
        "print(b.sum(axis=0)) #Array-wise operation"
      ],
      "execution_count": 0,
      "outputs": [
        {
          "output_type": "stream",
          "text": [
            "[ 6.2 11.3]\n",
            "[3.5 6.  8. ]\n"
          ],
          "name": "stdout"
        }
      ]
    },
    {
      "cell_type": "code",
      "metadata": {
        "id": "GfkrTdP7pEXv",
        "colab_type": "code",
        "colab": {}
      },
      "source": [
        "x = b.view() # copies the id of b to x. changing x will change b\n",
        "x = np.copy(b) # copies the whole data of b to x.\n",
        "\n"
      ],
      "execution_count": 0,
      "outputs": []
    },
    {
      "cell_type": "code",
      "metadata": {
        "id": "Iif4tYFn79zq",
        "colab_type": "code",
        "colab": {}
      },
      "source": [
        "x = np.copy(b)"
      ],
      "execution_count": 0,
      "outputs": []
    },
    {
      "cell_type": "code",
      "metadata": {
        "id": "mOGTqmOX8AFp",
        "colab_type": "code",
        "outputId": "f1e0002e-afdb-44ba-cb3e-facac56aabd8",
        "colab": {
          "base_uri": "https://localhost:8080/",
          "height": 51
        }
      },
      "source": [
        "x"
      ],
      "execution_count": 0,
      "outputs": [
        {
          "output_type": "execute_result",
          "data": {
            "text/plain": [
              "array([[111. ,   2. ,   3. ],\n",
              "       [  2.3,   7. ,  10. ]])"
            ]
          },
          "metadata": {
            "tags": []
          },
          "execution_count": 72
        }
      ]
    },
    {
      "cell_type": "code",
      "metadata": {
        "id": "H0V4WeuI8Bap",
        "colab_type": "code",
        "outputId": "aab8cac7-c773-4a21-9f53-ca3207ee0aae",
        "colab": {
          "base_uri": "https://localhost:8080/",
          "height": 51
        }
      },
      "source": [
        "b"
      ],
      "execution_count": 0,
      "outputs": [
        {
          "output_type": "execute_result",
          "data": {
            "text/plain": [
              "array([[ 1.2,  2. ,  3. ],\n",
              "       [ 2.3,  7. , 10. ]])"
            ]
          },
          "metadata": {
            "tags": []
          },
          "execution_count": 73
        }
      ]
    },
    {
      "cell_type": "code",
      "metadata": {
        "id": "iNTmc35l8Cb6",
        "colab_type": "code",
        "colab": {}
      },
      "source": [
        "x[0,0]=111"
      ],
      "execution_count": 0,
      "outputs": []
    },
    {
      "cell_type": "markdown",
      "metadata": {
        "id": "0xRT6IBE-Cg6",
        "colab_type": "text"
      },
      "source": [
        "## Subsetting, Slicing, Indexing"
      ]
    },
    {
      "cell_type": "code",
      "metadata": {
        "id": "5HRZ_xac8GE5",
        "colab_type": "code",
        "outputId": "b471fcc6-7102-4477-9188-50c202c5bf78",
        "colab": {
          "base_uri": "https://localhost:8080/",
          "height": 51
        }
      },
      "source": [
        "print(b[1])\n",
        "print(b[1,0])"
      ],
      "execution_count": 0,
      "outputs": [
        {
          "output_type": "stream",
          "text": [
            "[ 2.3  7.  10. ]\n",
            "2.3\n"
          ],
          "name": "stdout"
        }
      ]
    },
    {
      "cell_type": "code",
      "metadata": {
        "id": "3CGDpU0p-KR_",
        "colab_type": "code",
        "outputId": "87d10d7b-17c6-49c5-b31d-f2a2ddf84d2a",
        "colab": {
          "base_uri": "https://localhost:8080/",
          "height": 85
        }
      },
      "source": [
        "print(b[:1])\n",
        "print(b[:1,1])\n",
        "print(c[1,...]) # same as c[1,:,:]"
      ],
      "execution_count": 0,
      "outputs": [
        {
          "output_type": "stream",
          "text": [
            "[[1.2 2.  3. ]]\n",
            "[2.]\n",
            "[[3. 2. 1.]\n",
            " [4. 5. 6.]]\n"
          ],
          "name": "stdout"
        }
      ]
    },
    {
      "cell_type": "code",
      "metadata": {
        "id": "OYGjcnsM-V6_",
        "colab_type": "code",
        "outputId": "60dce0e2-eae4-42ce-920f-b2c023a65602",
        "colab": {
          "base_uri": "https://localhost:8080/",
          "height": 34
        }
      },
      "source": [
        "c[c<3] # output an array of elements less than the given value"
      ],
      "execution_count": 0,
      "outputs": [
        {
          "output_type": "execute_result",
          "data": {
            "text/plain": [
              "array([1.5, 2. , 2. , 1. ])"
            ]
          },
          "metadata": {
            "tags": []
          },
          "execution_count": 80
        }
      ]
    },
    {
      "cell_type": "markdown",
      "metadata": {
        "id": "2zq6BCFLXsyV",
        "colab_type": "text"
      },
      "source": [
        "## Array Manipulation"
      ]
    },
    {
      "cell_type": "code",
      "metadata": {
        "id": "17gepLGrXp6t",
        "colab_type": "code",
        "outputId": "3b174d8e-ad11-48be-c876-ee4ede79561d",
        "colab": {
          "base_uri": "https://localhost:8080/",
          "height": 136
        }
      },
      "source": [
        "i = np.transpose(b)\n",
        "print(i)\n",
        "print(b.ravel())\n",
        "print(b.reshape(3,-2))\n",
        "np.vstack((c,b))"
      ],
      "execution_count": 0,
      "outputs": [
        {
          "output_type": "stream",
          "text": [
            "[[ 1.2  2.3]\n",
            " [ 2.   7. ]\n",
            " [ 3.  10. ]]\n",
            "[ 1.2  2.   3.   2.3  7.  10. ]\n",
            "[[ 1.2  2. ]\n",
            " [ 3.   2.3]\n",
            " [ 7.  10. ]]\n"
          ],
          "name": "stdout"
        }
      ]
    },
    {
      "cell_type": "markdown",
      "metadata": {
        "id": "uzk0RIucXb3e",
        "colab_type": "text"
      },
      "source": [
        "---\n",
        "\n",
        "# Pandas"
      ]
    },
    {
      "cell_type": "code",
      "metadata": {
        "id": "StIKFPI2Fy18",
        "colab_type": "code",
        "outputId": "ad67f419-08b5-46a1-d97c-b105ea402d93",
        "colab": {
          "base_uri": "https://localhost:8080/",
          "height": 122
        }
      },
      "source": [
        "# https://pandas.pydata.org/Pandas_Cheat_Sheet.pdf\n",
        "\n",
        "import pandas as pd\n",
        "from google.colab import drive\n",
        "drive.mount('/content/gdrive')"
      ],
      "execution_count": 0,
      "outputs": [
        {
          "output_type": "stream",
          "text": [
            "Go to this URL in a browser: https://accounts.google.com/o/oauth2/auth?client_id=947318989803-6bn6qk8qdgf4n4g3pfee6491hc0brc4i.apps.googleusercontent.com&redirect_uri=urn%3aietf%3awg%3aoauth%3a2.0%3aoob&response_type=code&scope=email%20https%3a%2f%2fwww.googleapis.com%2fauth%2fdocs.test%20https%3a%2f%2fwww.googleapis.com%2fauth%2fdrive%20https%3a%2f%2fwww.googleapis.com%2fauth%2fdrive.photos.readonly%20https%3a%2f%2fwww.googleapis.com%2fauth%2fpeopleapi.readonly\n",
            "\n",
            "Enter your authorization code:\n",
            "··········\n",
            "Mounted at /content/gdrive\n"
          ],
          "name": "stdout"
        }
      ]
    },
    {
      "cell_type": "code",
      "metadata": {
        "id": "QiLwGncpwfc3",
        "colab_type": "code",
        "colab": {}
      },
      "source": [
        "data = pd.read_csv(\"gdrive/My Drive/Bin/datasets/fifa19/fifa19.csv\")"
      ],
      "execution_count": 0,
      "outputs": []
    },
    {
      "cell_type": "code",
      "metadata": {
        "id": "7wS7nGH9wwvn",
        "colab_type": "code",
        "outputId": "fbea51e2-363f-4445-9445-4187debb8ec9",
        "colab": {
          "base_uri": "https://localhost:8080/",
          "height": 389
        }
      },
      "source": [
        "data.head()"
      ],
      "execution_count": 0,
      "outputs": [
        {
          "output_type": "execute_result",
          "data": {
            "text/html": [
              "<div>\n",
              "<style scoped>\n",
              "    .dataframe tbody tr th:only-of-type {\n",
              "        vertical-align: middle;\n",
              "    }\n",
              "\n",
              "    .dataframe tbody tr th {\n",
              "        vertical-align: top;\n",
              "    }\n",
              "\n",
              "    .dataframe thead th {\n",
              "        text-align: right;\n",
              "    }\n",
              "</style>\n",
              "<table border=\"1\" class=\"dataframe\">\n",
              "  <thead>\n",
              "    <tr style=\"text-align: right;\">\n",
              "      <th></th>\n",
              "      <th>Unnamed: 0</th>\n",
              "      <th>ID</th>\n",
              "      <th>Name</th>\n",
              "      <th>Age</th>\n",
              "      <th>Photo</th>\n",
              "      <th>Nationality</th>\n",
              "      <th>Flag</th>\n",
              "      <th>Overall</th>\n",
              "      <th>Potential</th>\n",
              "      <th>Club</th>\n",
              "      <th>Club Logo</th>\n",
              "      <th>Value</th>\n",
              "      <th>Wage</th>\n",
              "      <th>Special</th>\n",
              "      <th>Preferred Foot</th>\n",
              "      <th>International Reputation</th>\n",
              "      <th>Weak Foot</th>\n",
              "      <th>Skill Moves</th>\n",
              "      <th>Work Rate</th>\n",
              "      <th>Body Type</th>\n",
              "      <th>Real Face</th>\n",
              "      <th>Position</th>\n",
              "      <th>Jersey Number</th>\n",
              "      <th>Joined</th>\n",
              "      <th>Loaned From</th>\n",
              "      <th>Contract Valid Until</th>\n",
              "      <th>Height</th>\n",
              "      <th>Weight</th>\n",
              "      <th>LS</th>\n",
              "      <th>ST</th>\n",
              "      <th>RS</th>\n",
              "      <th>LW</th>\n",
              "      <th>LF</th>\n",
              "      <th>CF</th>\n",
              "      <th>RF</th>\n",
              "      <th>RW</th>\n",
              "      <th>LAM</th>\n",
              "      <th>CAM</th>\n",
              "      <th>RAM</th>\n",
              "      <th>LM</th>\n",
              "      <th>...</th>\n",
              "      <th>LB</th>\n",
              "      <th>LCB</th>\n",
              "      <th>CB</th>\n",
              "      <th>RCB</th>\n",
              "      <th>RB</th>\n",
              "      <th>Crossing</th>\n",
              "      <th>Finishing</th>\n",
              "      <th>HeadingAccuracy</th>\n",
              "      <th>ShortPassing</th>\n",
              "      <th>Volleys</th>\n",
              "      <th>Dribbling</th>\n",
              "      <th>Curve</th>\n",
              "      <th>FKAccuracy</th>\n",
              "      <th>LongPassing</th>\n",
              "      <th>BallControl</th>\n",
              "      <th>Acceleration</th>\n",
              "      <th>SprintSpeed</th>\n",
              "      <th>Agility</th>\n",
              "      <th>Reactions</th>\n",
              "      <th>Balance</th>\n",
              "      <th>ShotPower</th>\n",
              "      <th>Jumping</th>\n",
              "      <th>Stamina</th>\n",
              "      <th>Strength</th>\n",
              "      <th>LongShots</th>\n",
              "      <th>Aggression</th>\n",
              "      <th>Interceptions</th>\n",
              "      <th>Positioning</th>\n",
              "      <th>Vision</th>\n",
              "      <th>Penalties</th>\n",
              "      <th>Composure</th>\n",
              "      <th>Marking</th>\n",
              "      <th>StandingTackle</th>\n",
              "      <th>SlidingTackle</th>\n",
              "      <th>GKDiving</th>\n",
              "      <th>GKHandling</th>\n",
              "      <th>GKKicking</th>\n",
              "      <th>GKPositioning</th>\n",
              "      <th>GKReflexes</th>\n",
              "      <th>Release Clause</th>\n",
              "    </tr>\n",
              "  </thead>\n",
              "  <tbody>\n",
              "    <tr>\n",
              "      <th>0</th>\n",
              "      <td>0</td>\n",
              "      <td>158023</td>\n",
              "      <td>L. Messi</td>\n",
              "      <td>31</td>\n",
              "      <td>https://cdn.sofifa.org/players/4/19/158023.png</td>\n",
              "      <td>Argentina</td>\n",
              "      <td>https://cdn.sofifa.org/flags/52.png</td>\n",
              "      <td>94</td>\n",
              "      <td>94</td>\n",
              "      <td>FC Barcelona</td>\n",
              "      <td>https://cdn.sofifa.org/teams/2/light/241.png</td>\n",
              "      <td>€110.5M</td>\n",
              "      <td>€565K</td>\n",
              "      <td>2202</td>\n",
              "      <td>Left</td>\n",
              "      <td>5.0</td>\n",
              "      <td>4.0</td>\n",
              "      <td>4.0</td>\n",
              "      <td>Medium/ Medium</td>\n",
              "      <td>Messi</td>\n",
              "      <td>Yes</td>\n",
              "      <td>RF</td>\n",
              "      <td>10.0</td>\n",
              "      <td>Jul 1, 2004</td>\n",
              "      <td>NaN</td>\n",
              "      <td>2021</td>\n",
              "      <td>5'7</td>\n",
              "      <td>159lbs</td>\n",
              "      <td>88+2</td>\n",
              "      <td>88+2</td>\n",
              "      <td>88+2</td>\n",
              "      <td>92+2</td>\n",
              "      <td>93+2</td>\n",
              "      <td>93+2</td>\n",
              "      <td>93+2</td>\n",
              "      <td>92+2</td>\n",
              "      <td>93+2</td>\n",
              "      <td>93+2</td>\n",
              "      <td>93+2</td>\n",
              "      <td>91+2</td>\n",
              "      <td>...</td>\n",
              "      <td>59+2</td>\n",
              "      <td>47+2</td>\n",
              "      <td>47+2</td>\n",
              "      <td>47+2</td>\n",
              "      <td>59+2</td>\n",
              "      <td>84.0</td>\n",
              "      <td>95.0</td>\n",
              "      <td>70.0</td>\n",
              "      <td>90.0</td>\n",
              "      <td>86.0</td>\n",
              "      <td>97.0</td>\n",
              "      <td>93.0</td>\n",
              "      <td>94.0</td>\n",
              "      <td>87.0</td>\n",
              "      <td>96.0</td>\n",
              "      <td>91.0</td>\n",
              "      <td>86.0</td>\n",
              "      <td>91.0</td>\n",
              "      <td>95.0</td>\n",
              "      <td>95.0</td>\n",
              "      <td>85.0</td>\n",
              "      <td>68.0</td>\n",
              "      <td>72.0</td>\n",
              "      <td>59.0</td>\n",
              "      <td>94.0</td>\n",
              "      <td>48.0</td>\n",
              "      <td>22.0</td>\n",
              "      <td>94.0</td>\n",
              "      <td>94.0</td>\n",
              "      <td>75.0</td>\n",
              "      <td>96.0</td>\n",
              "      <td>33.0</td>\n",
              "      <td>28.0</td>\n",
              "      <td>26.0</td>\n",
              "      <td>6.0</td>\n",
              "      <td>11.0</td>\n",
              "      <td>15.0</td>\n",
              "      <td>14.0</td>\n",
              "      <td>8.0</td>\n",
              "      <td>€226.5M</td>\n",
              "    </tr>\n",
              "    <tr>\n",
              "      <th>1</th>\n",
              "      <td>1</td>\n",
              "      <td>20801</td>\n",
              "      <td>Cristiano Ronaldo</td>\n",
              "      <td>33</td>\n",
              "      <td>https://cdn.sofifa.org/players/4/19/20801.png</td>\n",
              "      <td>Portugal</td>\n",
              "      <td>https://cdn.sofifa.org/flags/38.png</td>\n",
              "      <td>94</td>\n",
              "      <td>94</td>\n",
              "      <td>Juventus</td>\n",
              "      <td>https://cdn.sofifa.org/teams/2/light/45.png</td>\n",
              "      <td>€77M</td>\n",
              "      <td>€405K</td>\n",
              "      <td>2228</td>\n",
              "      <td>Right</td>\n",
              "      <td>5.0</td>\n",
              "      <td>4.0</td>\n",
              "      <td>5.0</td>\n",
              "      <td>High/ Low</td>\n",
              "      <td>C. Ronaldo</td>\n",
              "      <td>Yes</td>\n",
              "      <td>ST</td>\n",
              "      <td>7.0</td>\n",
              "      <td>Jul 10, 2018</td>\n",
              "      <td>NaN</td>\n",
              "      <td>2022</td>\n",
              "      <td>6'2</td>\n",
              "      <td>183lbs</td>\n",
              "      <td>91+3</td>\n",
              "      <td>91+3</td>\n",
              "      <td>91+3</td>\n",
              "      <td>89+3</td>\n",
              "      <td>90+3</td>\n",
              "      <td>90+3</td>\n",
              "      <td>90+3</td>\n",
              "      <td>89+3</td>\n",
              "      <td>88+3</td>\n",
              "      <td>88+3</td>\n",
              "      <td>88+3</td>\n",
              "      <td>88+3</td>\n",
              "      <td>...</td>\n",
              "      <td>61+3</td>\n",
              "      <td>53+3</td>\n",
              "      <td>53+3</td>\n",
              "      <td>53+3</td>\n",
              "      <td>61+3</td>\n",
              "      <td>84.0</td>\n",
              "      <td>94.0</td>\n",
              "      <td>89.0</td>\n",
              "      <td>81.0</td>\n",
              "      <td>87.0</td>\n",
              "      <td>88.0</td>\n",
              "      <td>81.0</td>\n",
              "      <td>76.0</td>\n",
              "      <td>77.0</td>\n",
              "      <td>94.0</td>\n",
              "      <td>89.0</td>\n",
              "      <td>91.0</td>\n",
              "      <td>87.0</td>\n",
              "      <td>96.0</td>\n",
              "      <td>70.0</td>\n",
              "      <td>95.0</td>\n",
              "      <td>95.0</td>\n",
              "      <td>88.0</td>\n",
              "      <td>79.0</td>\n",
              "      <td>93.0</td>\n",
              "      <td>63.0</td>\n",
              "      <td>29.0</td>\n",
              "      <td>95.0</td>\n",
              "      <td>82.0</td>\n",
              "      <td>85.0</td>\n",
              "      <td>95.0</td>\n",
              "      <td>28.0</td>\n",
              "      <td>31.0</td>\n",
              "      <td>23.0</td>\n",
              "      <td>7.0</td>\n",
              "      <td>11.0</td>\n",
              "      <td>15.0</td>\n",
              "      <td>14.0</td>\n",
              "      <td>11.0</td>\n",
              "      <td>€127.1M</td>\n",
              "    </tr>\n",
              "    <tr>\n",
              "      <th>2</th>\n",
              "      <td>2</td>\n",
              "      <td>190871</td>\n",
              "      <td>Neymar Jr</td>\n",
              "      <td>26</td>\n",
              "      <td>https://cdn.sofifa.org/players/4/19/190871.png</td>\n",
              "      <td>Brazil</td>\n",
              "      <td>https://cdn.sofifa.org/flags/54.png</td>\n",
              "      <td>92</td>\n",
              "      <td>93</td>\n",
              "      <td>Paris Saint-Germain</td>\n",
              "      <td>https://cdn.sofifa.org/teams/2/light/73.png</td>\n",
              "      <td>€118.5M</td>\n",
              "      <td>€290K</td>\n",
              "      <td>2143</td>\n",
              "      <td>Right</td>\n",
              "      <td>5.0</td>\n",
              "      <td>5.0</td>\n",
              "      <td>5.0</td>\n",
              "      <td>High/ Medium</td>\n",
              "      <td>Neymar</td>\n",
              "      <td>Yes</td>\n",
              "      <td>LW</td>\n",
              "      <td>10.0</td>\n",
              "      <td>Aug 3, 2017</td>\n",
              "      <td>NaN</td>\n",
              "      <td>2022</td>\n",
              "      <td>5'9</td>\n",
              "      <td>150lbs</td>\n",
              "      <td>84+3</td>\n",
              "      <td>84+3</td>\n",
              "      <td>84+3</td>\n",
              "      <td>89+3</td>\n",
              "      <td>89+3</td>\n",
              "      <td>89+3</td>\n",
              "      <td>89+3</td>\n",
              "      <td>89+3</td>\n",
              "      <td>89+3</td>\n",
              "      <td>89+3</td>\n",
              "      <td>89+3</td>\n",
              "      <td>88+3</td>\n",
              "      <td>...</td>\n",
              "      <td>60+3</td>\n",
              "      <td>47+3</td>\n",
              "      <td>47+3</td>\n",
              "      <td>47+3</td>\n",
              "      <td>60+3</td>\n",
              "      <td>79.0</td>\n",
              "      <td>87.0</td>\n",
              "      <td>62.0</td>\n",
              "      <td>84.0</td>\n",
              "      <td>84.0</td>\n",
              "      <td>96.0</td>\n",
              "      <td>88.0</td>\n",
              "      <td>87.0</td>\n",
              "      <td>78.0</td>\n",
              "      <td>95.0</td>\n",
              "      <td>94.0</td>\n",
              "      <td>90.0</td>\n",
              "      <td>96.0</td>\n",
              "      <td>94.0</td>\n",
              "      <td>84.0</td>\n",
              "      <td>80.0</td>\n",
              "      <td>61.0</td>\n",
              "      <td>81.0</td>\n",
              "      <td>49.0</td>\n",
              "      <td>82.0</td>\n",
              "      <td>56.0</td>\n",
              "      <td>36.0</td>\n",
              "      <td>89.0</td>\n",
              "      <td>87.0</td>\n",
              "      <td>81.0</td>\n",
              "      <td>94.0</td>\n",
              "      <td>27.0</td>\n",
              "      <td>24.0</td>\n",
              "      <td>33.0</td>\n",
              "      <td>9.0</td>\n",
              "      <td>9.0</td>\n",
              "      <td>15.0</td>\n",
              "      <td>15.0</td>\n",
              "      <td>11.0</td>\n",
              "      <td>€228.1M</td>\n",
              "    </tr>\n",
              "    <tr>\n",
              "      <th>3</th>\n",
              "      <td>3</td>\n",
              "      <td>193080</td>\n",
              "      <td>De Gea</td>\n",
              "      <td>27</td>\n",
              "      <td>https://cdn.sofifa.org/players/4/19/193080.png</td>\n",
              "      <td>Spain</td>\n",
              "      <td>https://cdn.sofifa.org/flags/45.png</td>\n",
              "      <td>91</td>\n",
              "      <td>93</td>\n",
              "      <td>Manchester United</td>\n",
              "      <td>https://cdn.sofifa.org/teams/2/light/11.png</td>\n",
              "      <td>€72M</td>\n",
              "      <td>€260K</td>\n",
              "      <td>1471</td>\n",
              "      <td>Right</td>\n",
              "      <td>4.0</td>\n",
              "      <td>3.0</td>\n",
              "      <td>1.0</td>\n",
              "      <td>Medium/ Medium</td>\n",
              "      <td>Lean</td>\n",
              "      <td>Yes</td>\n",
              "      <td>GK</td>\n",
              "      <td>1.0</td>\n",
              "      <td>Jul 1, 2011</td>\n",
              "      <td>NaN</td>\n",
              "      <td>2020</td>\n",
              "      <td>6'4</td>\n",
              "      <td>168lbs</td>\n",
              "      <td>NaN</td>\n",
              "      <td>NaN</td>\n",
              "      <td>NaN</td>\n",
              "      <td>NaN</td>\n",
              "      <td>NaN</td>\n",
              "      <td>NaN</td>\n",
              "      <td>NaN</td>\n",
              "      <td>NaN</td>\n",
              "      <td>NaN</td>\n",
              "      <td>NaN</td>\n",
              "      <td>NaN</td>\n",
              "      <td>NaN</td>\n",
              "      <td>...</td>\n",
              "      <td>NaN</td>\n",
              "      <td>NaN</td>\n",
              "      <td>NaN</td>\n",
              "      <td>NaN</td>\n",
              "      <td>NaN</td>\n",
              "      <td>17.0</td>\n",
              "      <td>13.0</td>\n",
              "      <td>21.0</td>\n",
              "      <td>50.0</td>\n",
              "      <td>13.0</td>\n",
              "      <td>18.0</td>\n",
              "      <td>21.0</td>\n",
              "      <td>19.0</td>\n",
              "      <td>51.0</td>\n",
              "      <td>42.0</td>\n",
              "      <td>57.0</td>\n",
              "      <td>58.0</td>\n",
              "      <td>60.0</td>\n",
              "      <td>90.0</td>\n",
              "      <td>43.0</td>\n",
              "      <td>31.0</td>\n",
              "      <td>67.0</td>\n",
              "      <td>43.0</td>\n",
              "      <td>64.0</td>\n",
              "      <td>12.0</td>\n",
              "      <td>38.0</td>\n",
              "      <td>30.0</td>\n",
              "      <td>12.0</td>\n",
              "      <td>68.0</td>\n",
              "      <td>40.0</td>\n",
              "      <td>68.0</td>\n",
              "      <td>15.0</td>\n",
              "      <td>21.0</td>\n",
              "      <td>13.0</td>\n",
              "      <td>90.0</td>\n",
              "      <td>85.0</td>\n",
              "      <td>87.0</td>\n",
              "      <td>88.0</td>\n",
              "      <td>94.0</td>\n",
              "      <td>€138.6M</td>\n",
              "    </tr>\n",
              "    <tr>\n",
              "      <th>4</th>\n",
              "      <td>4</td>\n",
              "      <td>192985</td>\n",
              "      <td>K. De Bruyne</td>\n",
              "      <td>27</td>\n",
              "      <td>https://cdn.sofifa.org/players/4/19/192985.png</td>\n",
              "      <td>Belgium</td>\n",
              "      <td>https://cdn.sofifa.org/flags/7.png</td>\n",
              "      <td>91</td>\n",
              "      <td>92</td>\n",
              "      <td>Manchester City</td>\n",
              "      <td>https://cdn.sofifa.org/teams/2/light/10.png</td>\n",
              "      <td>€102M</td>\n",
              "      <td>€355K</td>\n",
              "      <td>2281</td>\n",
              "      <td>Right</td>\n",
              "      <td>4.0</td>\n",
              "      <td>5.0</td>\n",
              "      <td>4.0</td>\n",
              "      <td>High/ High</td>\n",
              "      <td>Normal</td>\n",
              "      <td>Yes</td>\n",
              "      <td>RCM</td>\n",
              "      <td>7.0</td>\n",
              "      <td>Aug 30, 2015</td>\n",
              "      <td>NaN</td>\n",
              "      <td>2023</td>\n",
              "      <td>5'11</td>\n",
              "      <td>154lbs</td>\n",
              "      <td>82+3</td>\n",
              "      <td>82+3</td>\n",
              "      <td>82+3</td>\n",
              "      <td>87+3</td>\n",
              "      <td>87+3</td>\n",
              "      <td>87+3</td>\n",
              "      <td>87+3</td>\n",
              "      <td>87+3</td>\n",
              "      <td>88+3</td>\n",
              "      <td>88+3</td>\n",
              "      <td>88+3</td>\n",
              "      <td>88+3</td>\n",
              "      <td>...</td>\n",
              "      <td>73+3</td>\n",
              "      <td>66+3</td>\n",
              "      <td>66+3</td>\n",
              "      <td>66+3</td>\n",
              "      <td>73+3</td>\n",
              "      <td>93.0</td>\n",
              "      <td>82.0</td>\n",
              "      <td>55.0</td>\n",
              "      <td>92.0</td>\n",
              "      <td>82.0</td>\n",
              "      <td>86.0</td>\n",
              "      <td>85.0</td>\n",
              "      <td>83.0</td>\n",
              "      <td>91.0</td>\n",
              "      <td>91.0</td>\n",
              "      <td>78.0</td>\n",
              "      <td>76.0</td>\n",
              "      <td>79.0</td>\n",
              "      <td>91.0</td>\n",
              "      <td>77.0</td>\n",
              "      <td>91.0</td>\n",
              "      <td>63.0</td>\n",
              "      <td>90.0</td>\n",
              "      <td>75.0</td>\n",
              "      <td>91.0</td>\n",
              "      <td>76.0</td>\n",
              "      <td>61.0</td>\n",
              "      <td>87.0</td>\n",
              "      <td>94.0</td>\n",
              "      <td>79.0</td>\n",
              "      <td>88.0</td>\n",
              "      <td>68.0</td>\n",
              "      <td>58.0</td>\n",
              "      <td>51.0</td>\n",
              "      <td>15.0</td>\n",
              "      <td>13.0</td>\n",
              "      <td>5.0</td>\n",
              "      <td>10.0</td>\n",
              "      <td>13.0</td>\n",
              "      <td>€196.4M</td>\n",
              "    </tr>\n",
              "  </tbody>\n",
              "</table>\n",
              "<p>5 rows × 89 columns</p>\n",
              "</div>"
            ],
            "text/plain": [
              "   Unnamed: 0      ID  ... GKReflexes  Release Clause\n",
              "0           0  158023  ...        8.0         €226.5M\n",
              "1           1   20801  ...       11.0         €127.1M\n",
              "2           2  190871  ...       11.0         €228.1M\n",
              "3           3  193080  ...       94.0         €138.6M\n",
              "4           4  192985  ...       13.0         €196.4M\n",
              "\n",
              "[5 rows x 89 columns]"
            ]
          },
          "metadata": {
            "tags": []
          },
          "execution_count": 3
        }
      ]
    },
    {
      "cell_type": "code",
      "metadata": {
        "id": "8qBFOE1_DBp9",
        "colab_type": "code",
        "outputId": "b36cd9c6-7717-4744-e838-1da809c3516d",
        "colab": {
          "base_uri": "https://localhost:8080/",
          "height": 221
        }
      },
      "source": [
        "# data.shape[0]\n",
        "data['Nationality'].value_counts()"
      ],
      "execution_count": 0,
      "outputs": [
        {
          "output_type": "execute_result",
          "data": {
            "text/plain": [
              "England          1662\n",
              "Germany          1198\n",
              "Spain            1072\n",
              "Argentina         937\n",
              "France            914\n",
              "                 ... \n",
              "Mauritius           1\n",
              "Lebanon             1\n",
              "Malta               1\n",
              "New Caledonia       1\n",
              "Guam                1\n",
              "Name: Nationality, Length: 164, dtype: int64"
            ]
          },
          "metadata": {
            "tags": []
          },
          "execution_count": 8
        }
      ]
    },
    {
      "cell_type": "markdown",
      "metadata": {
        "id": "CSKFtsTPfroM",
        "colab_type": "text"
      },
      "source": [
        "# Hash Code"
      ]
    },
    {
      "cell_type": "code",
      "metadata": {
        "id": "-i5d6G0dxJjX",
        "colab_type": "code",
        "colab": {}
      },
      "source": [
        "def BinarySearch(Arr, num, l, r):\n",
        "  # print(\"rec\")\n",
        "  index = l\n",
        "  if l<r:\n",
        "    mean = l+r//2\n",
        "    if num==Arr[mean]:\n",
        "      return mean\n",
        "    elif num<Arr[mean]:\n",
        "      return BinarySearch(Arr, num, l, mean)\n",
        "    else:\n",
        "      return BinarySearch(Arr, num, mean, r)\n",
        "  else:\n",
        "    return index\n",
        "\n",
        "def fun(Req, arr):\n",
        "  i=0\n",
        "  while sum < Req:\n",
        "    sum += arr[i]\n",
        "    i+=1\n",
        "  index = binarySearch(Arr, num, 0, len(Arr))\n",
        "  return arr\n",
        "\n",
        "arr = [1,2,3,4,5,6,7,8]\n",
        "req = 4\n",
        "print(BinarySearch(arr, req, 0, len(arr)))"
      ],
      "execution_count": 0,
      "outputs": []
    },
    {
      "cell_type": "code",
      "metadata": {
        "id": "r1OBv2Q8i-Jt",
        "colab_type": "code",
        "colab": {}
      },
      "source": [
        ""
      ],
      "execution_count": 0,
      "outputs": []
    }
  ]
}